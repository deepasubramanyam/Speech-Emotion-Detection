{
 "cells": [
  {
   "cell_type": "code",
   "execution_count": 3,
   "id": "37299dda",
   "metadata": {},
   "outputs": [
    {
     "name": "stdout",
     "output_type": "stream",
     "text": [
      "Routine started\n",
      "--- Data loaded. Loading time: 378.4066879749298 seconds ---\n",
      "(5076, 40) (5076,)\n",
      "Routine completed.\n"
     ]
    }
   ],
   "source": [
    "import os\n",
    "import time\n",
    "import joblib\n",
    "import librosa\n",
    "import numpy as np\n",
    "\n",
    "\n",
    "class CreateFeatures:\n",
    "\n",
    "    @staticmethod\n",
    "    def features_creator(path, save_dir) -> str:\n",
    "        \"\"\"\n",
    "        This function creates the dataset and saves both data and labels in\n",
    "        two files, X.joblib and y.joblib in the joblib_features folder.\n",
    "        With this method, you can persist your features and train quickly\n",
    "        new machine learning models instead of reloading the features\n",
    "        every time with this pipeline.\n",
    "        \"\"\"\n",
    "\n",
    "        lst = []\n",
    "\n",
    "        start_time = time.time()\n",
    "\n",
    "        for subdir, dirs, files in os.walk(path):\n",
    "            for file in files:\n",
    "                try:\n",
    "                    # Load librosa array, obtain mfcss, store the file and the mcss information in a new array\n",
    "                    X, sample_rate = librosa.load(os.path.join(subdir, file),\n",
    "                                                  res_type='kaiser_fast')\n",
    "                    mfccs = np.mean(librosa.feature.mfcc(y=X, sr=sample_rate,\n",
    "                                                         n_mfcc=40).T, axis=0)\n",
    "                    # The instruction below converts the labels (from 1 to 8) to a series from 0 to 7\n",
    "                    # This is because our predictor needs to start from 0 otherwise it will try to predict also 0.\n",
    "                    file = int(file[7:8]) - 1\n",
    "                    arr = mfccs, file\n",
    "                    lst.append(arr)\n",
    "                # If the file is not valid, skip it\n",
    "                except ValueError as err:\n",
    "                    print(err)\n",
    "                    continue\n",
    "\n",
    "        print(\"--- Data loaded. Loading time: %s seconds ---\" % (time.time() - start_time))\n",
    "\n",
    "        # Creating X and y: zip makes a list of all the first elements, and a list of all the second elements.\n",
    "        X, y = zip(*lst)\n",
    "\n",
    "        # Array conversion\n",
    "        X, y = np.asarray(X), np.asarray(y)\n",
    "\n",
    "        # Array shape check\n",
    "        print(X.shape, y.shape)\n",
    "\n",
    "        # Preparing features dump\n",
    "        X_name, y_name = 'X.joblib', 'y.joblib'\n",
    "\n",
    "        joblib.dump(X, os.path.join(save_dir, X_name))\n",
    "        joblib.dump(y, os.path.join(save_dir, y_name))\n",
    "\n",
    "        return \"Completed\"\n",
    "\n",
    "\n",
    "if __name__ == '__main__':\n",
    "    print('Routine started')\n",
    "    FEATURES = CreateFeatures.features_creator(path=\"C:\\\\features\\\\\"\n",
    "    ,save_dir=\"C:\\\\joblib_features\")\n",
    "    print('Routine completed.')"
   ]
  },
  {
   "cell_type": "code",
   "execution_count": null,
   "id": "75acf7b3",
   "metadata": {},
   "outputs": [],
   "source": []
  }
 ],
 "metadata": {
  "kernelspec": {
   "display_name": "Python 3 (ipykernel)",
   "language": "python",
   "name": "python3"
  },
  "language_info": {
   "codemirror_mode": {
    "name": "ipython",
    "version": 3
   },
   "file_extension": ".py",
   "mimetype": "text/x-python",
   "name": "python",
   "nbconvert_exporter": "python",
   "pygments_lexer": "ipython3",
   "version": "3.8.11"
  }
 },
 "nbformat": 4,
 "nbformat_minor": 5
}
